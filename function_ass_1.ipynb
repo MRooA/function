{
 "cells": [
  {
   "cell_type": "code",
   "execution_count": 7,
   "id": "2ae45225-8089-4817-8963-eae49e4df5ac",
   "metadata": {},
   "outputs": [
    {
     "data": {
      "text/plain": [
       "'Q1. Which keyword is used to create a function? Create a function to return a list of odd numbers in the\\nrange of 1 to 25.\\n\\nThe keyword to create a function in most programming languages is def.\\n'"
      ]
     },
     "execution_count": 7,
     "metadata": {},
     "output_type": "execute_result"
    }
   ],
   "source": [
    "'''Q1. Which keyword is used to create a function? Create a function to return a list of odd numbers in the\n",
    "range of 1 to 25.\n",
    "\n",
    "The keyword to create a function in most programming languages is def.\n",
    "'''"
   ]
  },
  {
   "cell_type": "code",
   "execution_count": 9,
   "id": "458ec5c2-8e20-4892-9b80-d91a38bcead5",
   "metadata": {},
   "outputs": [
    {
     "name": "stdout",
     "output_type": "stream",
     "text": [
      "[1, 3, 5, 7, 9, 11, 13, 15, 17, 19, 21, 23, 25]\n"
     ]
    }
   ],
   "source": [
    "def odd_numbers(n):\n",
    "  \"\"\"\n",
    "  This function returns a list of odd numbers from 1 to n.\n",
    "  \"\"\"\n",
    "  odd_list = []\n",
    "  for i in range(1, n + 1):\n",
    "    if i % 2 != 0:\n",
    "      odd_list.append(i)\n",
    "  return odd_list\n",
    "\n",
    "print(odd_numbers(25))\n"
   ]
  },
  {
   "cell_type": "code",
   "execution_count": 11,
   "id": "c8ef9216-76dc-4c38-94c2-7d8b6cf395ac",
   "metadata": {},
   "outputs": [
    {
     "data": {
      "text/plain": [
       "'Q2. Why *args and **kwargs is used in some functions? Create a function each for *args and **kwargs\\nto demonstrate their use.\\n\\n*args allows a function to accept an arbitrary number of positional arguments. Think of it like a catch-all for any extra arguments you might pass in.\\nHow it works: The * unpacks the arguments into a tuple inside the function.\\n\\n**kwargs lets a function accept an arbitrary number of keyword arguments. Think of it as a dictionary of key-value pairs.\\nHow it works: The ** unpacks the arguments into a dictionary inside the function.'"
      ]
     },
     "execution_count": 11,
     "metadata": {},
     "output_type": "execute_result"
    }
   ],
   "source": [
    "'''Q2. Why *args and **kwargs is used in some functions? Create a function each for *args and **kwargs\n",
    "to demonstrate their use.\n",
    "\n",
    "*args allows a function to accept an arbitrary number of positional arguments. Think of it like a catch-all for any extra arguments you might pass in.\n",
    "How it works: The * unpacks the arguments into a tuple inside the function.\n",
    "\n",
    "**kwargs lets a function accept an arbitrary number of keyword arguments. Think of it as a dictionary of key-value pairs.\n",
    "How it works: The ** unpacks the arguments into a dictionary inside the function.'''"
   ]
  },
  {
   "cell_type": "code",
   "execution_count": 13,
   "id": "5b9cdcaa-7b6c-4cc1-9bd6-04bb5f7c8bd4",
   "metadata": {},
   "outputs": [
    {
     "name": "stdout",
     "output_type": "stream",
     "text": [
      "15\n"
     ]
    }
   ],
   "source": [
    "def sum_all(*args):\n",
    "  \"\"\"\n",
    "  This function calculates the sum of all arguments passed to it.\n",
    "  \"\"\"\n",
    "  total = 0\n",
    "  for num in args:\n",
    "    total += num\n",
    "  return total\n",
    "\n",
    "print(sum_all(1, 2, 3, 4, 5))  # Output: 15\n"
   ]
  },
  {
   "cell_type": "code",
   "execution_count": 15,
   "id": "bd2fdaa6-bc22-40af-9e9f-550752879fe2",
   "metadata": {},
   "outputs": [
    {
     "name": "stdout",
     "output_type": "stream",
     "text": [
      "{'name': 'Alice', 'age': 30, 'city': 'Wonderland'}\n"
     ]
    }
   ],
   "source": [
    "def create_profile(**kwargs):\n",
    "  \"\"\"\n",
    "  This function creates a profile dictionary from keyword arguments.\n",
    "  \"\"\"\n",
    "  profile = {}\n",
    "  for key, value in kwargs.items():\n",
    "    profile[key] = value\n",
    "  return profile\n",
    "\n",
    "print(create_profile(name=\"Alice\", age=30, city=\"Wonderland\"))\n",
    "# Output: {'name': 'Alice', 'age': 30, 'city': 'Wonderland'}\n"
   ]
  },
  {
   "cell_type": "code",
   "execution_count": 19,
   "id": "0c9d2e56-4f81-4415-90a2-61f64c399b22",
   "metadata": {},
   "outputs": [
    {
     "data": {
      "text/plain": [
       "\"Q3. What is an iterator in python? Name the method used to initialise the iterator object and the method\\nused for iteration. Use these methods to print the first five elements of the given list [2, 4, 6, 8, 10, 12, 14,\\n16, 18, 20].\\n\\nWhat is an Iterator?\\n\\nAn iterator in Python is an object that allows you to traverse through a sequence of elements one by one.\\nIt's like a special pointer that keeps track of your current position in the sequence.\""
      ]
     },
     "execution_count": 19,
     "metadata": {},
     "output_type": "execute_result"
    }
   ],
   "source": [
    "'''Q3. What is an iterator in python? Name the method used to initialise the iterator object and the method\n",
    "used for iteration. Use these methods to print the first five elements of the given list [2, 4, 6, 8, 10, 12, 14,\n",
    "16, 18, 20].\n",
    "\n",
    "What is an Iterator?\n",
    "\n",
    "An iterator in Python is an object that allows you to traverse through a sequence of elements one by one.\n",
    "It's like a special pointer that keeps track of your current position in the sequence.'''"
   ]
  },
  {
   "cell_type": "code",
   "execution_count": 21,
   "id": "f6166c81-4dae-4557-94ab-a9ed15f7cd61",
   "metadata": {},
   "outputs": [
    {
     "name": "stdout",
     "output_type": "stream",
     "text": [
      "2\n",
      "4\n",
      "6\n",
      "8\n",
      "10\n"
     ]
    }
   ],
   "source": [
    "my_list = [2, 4, 6, 8, 10, 12, 14, 16, 18, 20]\n",
    "\n",
    "my_iterator = iter(my_list)  # Initialize the iterator\n",
    "\n",
    "for i in range(5):\n",
    "  print(next(my_iterator))  # Print the next element\n"
   ]
  },
  {
   "cell_type": "code",
   "execution_count": 23,
   "id": "a6d88bfd-055f-4575-8903-ee0e7ff47d0b",
   "metadata": {},
   "outputs": [
    {
     "data": {
      "text/plain": [
       "\"Q4. What is a generator function in python? Why yield keyword is used? Give an example of a generator\\nfunction.\\n\\nWhat is a Generator Function?\\n\\nA generator function in Python is a special type of function that uses the yield keyword to produce a sequence of values. Instead of returning a single value and \\nterminating, it pauses its execution, remembers its state, and resumes from where it left off when called again.\\n\\nWhy Use yield?\\n\\nThe yield keyword is the heart of a generator function. It does the following:\\n\\nPauses Execution: When yield is encountered, the function's execution is paused, and the value after yield is returned to the caller.\\nPreserves State: The function's state (including local variables and the execution point) is saved.\\nResumes on Next Call: When the generator is called again (using next() or in a loop), it resumes execution from where it left off, picking up\\nfrom the last yield statement.\""
      ]
     },
     "execution_count": 23,
     "metadata": {},
     "output_type": "execute_result"
    }
   ],
   "source": [
    "'''Q4. What is a generator function in python? Why yield keyword is used? Give an example of a generator\n",
    "function.\n",
    "\n",
    "What is a Generator Function?\n",
    "\n",
    "A generator function in Python is a special type of function that uses the yield keyword to produce a sequence of values. Instead of returning a single value and \n",
    "terminating, it pauses its execution, remembers its state, and resumes from where it left off when called again.\n",
    "\n",
    "Why Use yield?\n",
    "\n",
    "The yield keyword is the heart of a generator function. It does the following:\n",
    "\n",
    "Pauses Execution: When yield is encountered, the function's execution is paused, and the value after yield is returned to the caller.\n",
    "Preserves State: The function's state (including local variables and the execution point) is saved.\n",
    "Resumes on Next Call: When the generator is called again (using next() or in a loop), it resumes execution from where it left off, picking up\n",
    "from the last yield statement.'''"
   ]
  },
  {
   "cell_type": "code",
   "execution_count": 25,
   "id": "e84a74c8-5622-43e9-8b30-278814db2e1a",
   "metadata": {},
   "outputs": [
    {
     "name": "stdout",
     "output_type": "stream",
     "text": [
      "2\n",
      "4\n",
      "6\n",
      "8\n",
      "10\n"
     ]
    }
   ],
   "source": [
    "def even_numbers(n):\n",
    "  \"\"\"\n",
    "  This generator function yields even numbers from 1 to n.\n",
    "  \"\"\"\n",
    "  for i in range(1, n + 1):\n",
    "    if i % 2 == 0:\n",
    "      yield i\n",
    "\n",
    "for num in even_numbers(10):\n",
    "  print(num)\n"
   ]
  },
  {
   "cell_type": "code",
   "execution_count": 33,
   "id": "73862eee-f706-402a-bd7b-379fb3c365c2",
   "metadata": {},
   "outputs": [
    {
     "name": "stdout",
     "output_type": "stream",
     "text": [
      "1\n",
      "2\n",
      "3\n",
      "5\n",
      "7\n",
      "11\n",
      "13\n",
      "17\n",
      "19\n",
      "23\n",
      "29\n",
      "31\n",
      "37\n",
      "41\n",
      "43\n",
      "47\n",
      "53\n",
      "59\n",
      "61\n",
      "67\n"
     ]
    }
   ],
   "source": [
    "'''Q5. Create a generator function for prime numbers less than 1000. Use the next() method to print the\n",
    "first 20 prime numbers.'''\n",
    "\n",
    "def prime_numbers():\n",
    "  \"\"\"\n",
    "  This generator function yields prime numbers less than 1000.\n",
    "  \"\"\"\n",
    "  for num in range(1, 1000):\n",
    "    is_prime = True\n",
    "    for i in range(2, int(num**0.5) + 1):\n",
    "      if num % i == 0:\n",
    "        is_prime = False\n",
    "        break\n",
    "    if is_prime:\n",
    "      yield num\n",
    "\n",
    "prime_gen = prime_numbers()\n",
    "\n",
    "for i in range(20):\n",
    "  print(next(prime_gen))\n"
   ]
  },
  {
   "cell_type": "code",
   "execution_count": 35,
   "id": "66083b4e-3b5c-4536-aab4-ee979264b89b",
   "metadata": {},
   "outputs": [
    {
     "name": "stdout",
     "output_type": "stream",
     "text": [
      "0 1 1 2 3 5 8 13 21 34 "
     ]
    }
   ],
   "source": [
    "'''Q6. Write a python program to print the first 10 Fibonacci numbers using a while loop.'''\n",
    "\n",
    "a = 0\n",
    "b = 1\n",
    "count = 0\n",
    "\n",
    "while count < 10:\n",
    "  print(a, end=\" \")\n",
    "  c = a + b\n",
    "  a = b\n",
    "  b = c\n",
    "  count += 1\n"
   ]
  },
  {
   "cell_type": "code",
   "execution_count": 39,
   "id": "d9706d03-6bc5-4c15-bb2f-e8fa9ec5f9f3",
   "metadata": {},
   "outputs": [
    {
     "name": "stdout",
     "output_type": "stream",
     "text": [
      "['p', 'w', 's', 'k', 'i', 'l', 'l', 's']\n"
     ]
    }
   ],
   "source": [
    "'''Q7. Write a List Comprehension to iterate through the given string: ‘pwskills’.\n",
    "Expected output: ['p', 'w', 's', 'k', 'i', 'l', 'l', 's']'''\n",
    "\n",
    "string = 'pwskills'\n",
    "char_list = [char for char in string]\n",
    "print(char_list)\n"
   ]
  },
  {
   "cell_type": "code",
   "execution_count": 41,
   "id": "89a38f81-9eeb-4229-b720-51fe39cec823",
   "metadata": {},
   "outputs": [
    {
     "name": "stdin",
     "output_type": "stream",
     "text": [
      "Enter a number:  7\n"
     ]
    },
    {
     "name": "stdout",
     "output_type": "stream",
     "text": [
      "7 is a palindrome.\n"
     ]
    }
   ],
   "source": [
    "'''Q8. Write a python program to check whether a given number is Palindrome or not using a while loop.'''\n",
    "\n",
    "def is_palindrome(num):\n",
    "  \"\"\"\n",
    "  This function checks if a number is a palindrome.\n",
    "  \"\"\"\n",
    "  original_num = num\n",
    "  reversed_num = 0\n",
    "  while num > 0:\n",
    "    digit = num % 10\n",
    "    reversed_num = reversed_num * 10 + digit\n",
    "    num //= 10\n",
    "  if original_num == reversed_num:\n",
    "    return True\n",
    "  else:\n",
    "    return False\n",
    "\n",
    "number = int(input(\"Enter a number: \"))\n",
    "\n",
    "if is_palindrome(number):\n",
    "  print(f\"{number} is a palindrome.\")\n",
    "else:\n",
    "  print(f\"{number} is not a palindrome.\")\n"
   ]
  },
  {
   "cell_type": "code",
   "execution_count": 43,
   "id": "5f9a12d1-546d-4f92-b33e-b78ed2f49b87",
   "metadata": {},
   "outputs": [
    {
     "name": "stdout",
     "output_type": "stream",
     "text": [
      "[1, 3, 5, 7, 9, 11, 13, 15, 17, 19, 21, 23, 25, 27, 29, 31, 33, 35, 37, 39, 41, 43, 45, 47, 49, 51, 53, 55, 57, 59, 61, 63, 65, 67, 69, 71, 73, 75, 77, 79, 81, 83, 85, 87, 89, 91, 93, 95, 97, 99]\n"
     ]
    }
   ],
   "source": [
    "'''Q9. Write a code to print odd numbers from 1 to 100 using list comprehension.'''\n",
    "\n",
    "odd_numbers = [num for num in range(1, 101) if num % 2 != 0]\n",
    "print(odd_numbers)\n"
   ]
  },
  {
   "cell_type": "code",
   "execution_count": null,
   "id": "19693ccb-ed65-4ac3-8c39-98f7af90693d",
   "metadata": {},
   "outputs": [],
   "source": []
  }
 ],
 "metadata": {
  "kernelspec": {
   "display_name": "Python 3 (ipykernel)",
   "language": "python",
   "name": "python3"
  },
  "language_info": {
   "codemirror_mode": {
    "name": "ipython",
    "version": 3
   },
   "file_extension": ".py",
   "mimetype": "text/x-python",
   "name": "python",
   "nbconvert_exporter": "python",
   "pygments_lexer": "ipython3",
   "version": "3.12.7"
  }
 },
 "nbformat": 4,
 "nbformat_minor": 5
}
